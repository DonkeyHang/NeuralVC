{
 "cells": [
  {
   "cell_type": "code",
   "execution_count": 1,
   "metadata": {},
   "outputs": [],
   "source": [
    "import torch\n",
    "import os\n",
    "import librosa"
   ]
  },
  {
   "cell_type": "code",
   "execution_count": 2,
   "metadata": {},
   "outputs": [
    {
     "name": "stderr",
     "output_type": "stream",
     "text": [
      "Using cache found in C:\\Users\\zzy/.cache\\torch\\hub\\bshall_hubert_main\n",
      "d:\\anaconda3\\envs\\myvc\\lib\\site-packages\\torch\\nn\\utils\\weight_norm.py:30: UserWarning: torch.nn.utils.weight_norm is deprecated in favor of torch.nn.utils.parametrizations.weight_norm.\n",
      "  warnings.warn(\"torch.nn.utils.weight_norm is deprecated in favor of torch.nn.utils.parametrizations.weight_norm.\")\n"
     ]
    }
   ],
   "source": [
    "hubert = torch.hub.load(\"bshall/hubert:main\", f\"hubert_soft\").eval() "
   ]
  },
  {
   "cell_type": "code",
   "execution_count": 7,
   "metadata": {},
   "outputs": [
    {
     "name": "stdout",
     "output_type": "stream",
     "text": [
      "content code saved in F:/SpeechDataset/SpeechDataset/VCTK data/vctk-22k/p225/p225_001.pt\n",
      "content code saved in F:/SpeechDataset/SpeechDataset/VCTK data/vctk-22k/p225/p225_002.pt\n",
      "content code saved in F:/SpeechDataset/SpeechDataset/VCTK data/vctk-22k/p225/p225_003.pt\n",
      "content code saved in F:/SpeechDataset/SpeechDataset/VCTK data/vctk-22k/p225/p225_004.pt\n",
      "content code saved in F:/SpeechDataset/SpeechDataset/VCTK data/vctk-22k/p225/p225_005.pt\n",
      "content code saved in F:/SpeechDataset/SpeechDataset/VCTK data/vctk-22k/p225/p225_006.pt\n",
      "content code saved in F:/SpeechDataset/SpeechDataset/VCTK data/vctk-22k/p225/p225_007.pt\n",
      "content code saved in F:/SpeechDataset/SpeechDataset/VCTK data/vctk-22k/p225/p225_008.pt\n"
     ]
    }
   ],
   "source": [
    "vctk_path = \"F:/SpeechDataset/SpeechDataset/VCTK data/vctk-16k\"\n",
    "speakers = os.listdir(vctk_path)\n",
    "for spk in speakers:\n",
    "    files_path = f\"{vctk_path}/{spk}\"\n",
    "    wavs_path = os.listdir(files_path)\n",
    "    for wav_name in wavs_path:\n",
    "        wav_path = f\"{files_path}/{wav_name}\"\n",
    "        wav, r = librosa.load(wav_path)\n",
    "        wav = torch.from_numpy(wav).unsqueeze(0).unsqueeze(0)\n",
    "        c = hubert.units(wav)\n",
    "        c = c.transpose(1,2)\n",
    "        torch.save(c, wav_path.replace(\".wav\", \".pt\"))\n",
    "        c_path = wav_path.replace(\".wav\", \".pt\")\n",
    "        print(f\"content code saved in {c_path}\")"
   ]
  }
 ],
 "metadata": {
  "kernelspec": {
   "display_name": "myvc",
   "language": "python",
   "name": "python3"
  },
  "language_info": {
   "codemirror_mode": {
    "name": "ipython",
    "version": 3
   },
   "file_extension": ".py",
   "mimetype": "text/x-python",
   "name": "python",
   "nbconvert_exporter": "python",
   "pygments_lexer": "ipython3",
   "version": "3.10.13"
  }
 },
 "nbformat": 4,
 "nbformat_minor": 2
}
