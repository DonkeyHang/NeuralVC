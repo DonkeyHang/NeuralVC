{
 "cells": [
  {
   "cell_type": "code",
   "execution_count": null,
   "metadata": {},
   "outputs": [],
   "source": [
    "import os\n",
    "import argparse\n",
    "import torch\n",
    "import librosa\n",
    "import time\n",
    "from scipy.io.wavfile import write\n",
    "from tqdm import tqdm\n",
    "import soundfile as sf\n",
    "import utils\n",
    "import time\n",
    "from models import HuBERT_NeuralDec_VITS\n",
    "from mel_processing import mel_spectrogram_torch\n",
    "import logging\n",
    "\n",
    "from speaker_encoder.voice_encoder import SpeakerEncoder\n",
    "logging.getLogger('numba').setLevel(logging.WARNING)"
   ]
  },
  {
   "cell_type": "code",
   "execution_count": null,
   "metadata": {},
   "outputs": [],
   "source": [
    "class Parameters:\n",
    "    def __init__(self):\n",
    "        self.hpfile = \"logs/neuralvc/config.json\"\n",
    "        self.ptfile = \"logs/neuralvc/G_990000.pth\"\n",
    "        self.model_name = \"hubert-neuraldec-vits\"\n",
    "        self.outdir = \"output/temp\"\n",
    "        self.use_timestamp = False\n",
    "args = Parameters()"
   ]
  },
  {
   "cell_type": "code",
   "execution_count": null,
   "metadata": {},
   "outputs": [],
   "source": [
    "if not os.path.exists(args.outdir):\n",
    "    os.makedirs(args.outdir)\n",
    "\n",
    "# hps = utils.get_hparams_from_file(args.hpfile)"
   ]
  },
  {
   "cell_type": "code",
   "execution_count": null,
   "metadata": {},
   "outputs": [],
   "source": [
    "os.makedirs(args.outdir, exist_ok=True)\n",
    "hps = utils.get_hparams_from_file(args.hpfile)\n",
    "\n",
    "print(\"Loading model...\")\n",
    "net_g = HuBERT_NeuralDec_VITS(\n",
    "    hps.data.filter_length // 2 + 1,\n",
    "    hps.train.segment_size // hps.data.hop_length,\n",
    "    **hps.model)\n",
    "_ = net_g.eval()\n",
    "\n",
    "print(\"Loading checkpoint...\")\n",
    "_ = utils.load_checkpoint(args.ptfile, net_g, None, True)\n",
    "\n",
    "print(\"Loading hubert...\")\n",
    "hubert = torch.hub.load(\"bshall/hubert:main\", f\"hubert_soft\").eval() \n",
    "\n",
    "if hps.model.use_spk:\n",
    "    print(\"Loading speaker encoder...\")\n",
    "    smodel = SpeakerEncoder('speaker_encoder/ckpt/pretrained_bak_5805000.pt')\n",
    "print(\"ok\")"
   ]
  },
  {
   "cell_type": "code",
   "execution_count": null,
   "metadata": {},
   "outputs": [],
   "source": [
    "from tqdm import tqdm\n",
    "\n",
    "def convert(src_list, tgt):\n",
    "    tgtname = tgt.split(\"/\")[-1].split(\".\")[0]\n",
    "    wav_tgt, _ = librosa.load(tgt, sr=hps.data.sampling_rate)\n",
    "    if not os.path.exists(os.path.join(args.outdir, tgtname)):\n",
    "        os.makedirs(os.path.join(args.outdir, tgtname))\n",
    "    sf.write(os.path.join(args.outdir, tgtname, f\"tgt_{tgtname}.wav\"), wav_tgt, hps.data.sampling_rate)\n",
    "    wav_tgt, _ = librosa.effects.trim(wav_tgt, top_db=20)\n",
    "    g_tgt = smodel.embed_utterance(wav_tgt)\n",
    "    g_tgt = torch.from_numpy(g_tgt).unsqueeze(0)\n",
    "    for src in tqdm(src_list):\n",
    "        srcname = src.split(\"/\")[-1].split(\".\")[0]\n",
    "        title = srcname + \"-\" + tgtname\n",
    "        with torch.no_grad():\n",
    "            wav_src, _ = librosa.load(src, sr=hps.data.sampling_rate)\n",
    "            sf.write(os.path.join(args.outdir, tgtname, f\"src_{srcname}.wav\"), wav_src, hps.data.sampling_rate)\n",
    "            wav_src = torch.from_numpy(wav_src).unsqueeze(0).unsqueeze(0)\n",
    "            c = hubert.units(wav_src)\n",
    "            c = c.transpose(1,2)\n",
    "            audio = net_g.infer(c, g=g_tgt)\n",
    "            audio = audio[0][0].data.cpu().float().numpy()\n",
    "            write(os.path.join(args.outdir, tgtname, f\"{title}.wav\"), hps.data.sampling_rate, audio)"
   ]
  },
  {
   "cell_type": "code",
   "execution_count": null,
   "metadata": {},
   "outputs": [],
   "source": [
    "# Test\n",
    "import time\n",
    "\n",
    "tgt1 = \"/mnt/hd/cma/zzy/dataset/test/M_5105_28233_000016_000001.wav\"\n",
    "\n",
    "src_list1 = [\"/mnt/hd/cma/zzy/dataset/test/F_3575_170457_000032_000001.wav\"]\n",
    "\n",
    "convert(src_list1, tgt1)"
   ]
  }
 ],
 "metadata": {
  "language_info": {
   "name": "python"
  }
 },
 "nbformat": 4,
 "nbformat_minor": 2
}
